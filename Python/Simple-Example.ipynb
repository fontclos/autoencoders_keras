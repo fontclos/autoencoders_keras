{
 "cells": [
  {
   "cell_type": "code",
   "execution_count": 194,
   "metadata": {},
   "outputs": [
    {
     "name": "stdout",
     "output_type": "stream",
     "text": [
      "[name: \"/device:CPU:0\"\n",
      "device_type: \"CPU\"\n",
      "memory_limit: 268435456\n",
      "locality {\n",
      "}\n",
      "incarnation: 16865762909728004287\n",
      ", name: \"/device:GPU:0\"\n",
      "device_type: \"GPU\"\n",
      "memory_limit: 3730735104\n",
      "locality {\n",
      "  bus_id: 1\n",
      "  links {\n",
      "  }\n",
      "}\n",
      "incarnation: 8259617840521707588\n",
      "physical_device_desc: \"device: 0, name: Tesla K20c, pci bus id: 0000:04:00.0, compute capability: 3.5\"\n",
      "]\n"
     ]
    },
    {
     "name": "stderr",
     "output_type": "stream",
     "text": [
      "Using TensorFlow backend.\n"
     ]
    }
   ],
   "source": [
    "import os\n",
    "import math\n",
    "import sys\n",
    "import importlib\n",
    "\n",
    "import numpy as np\n",
    "np.set_printoptions(suppress=True)\n",
    "import pandas as pd\n",
    "\n",
    "import matplotlib.pyplot as plt\n",
    "%matplotlib inline\n",
    "\n",
    "from keras import backend as bkend\n",
    "from autoencoders_keras.get_session import get_session\n",
    "import keras.backend.tensorflow_backend as KTF\n",
    "KTF.set_session(get_session(gpu_fraction=0.75, allow_soft_placement=True, log_device_placement=False))\n",
    "\n",
    "import tensorflow as tf\n",
    "from tensorflow.python.client import device_lib\n",
    "os.environ[\"KERAS_BACKEND\"] = \"tensorflow\"\n",
    "importlib.reload(bkend)\n",
    "print(device_lib.list_local_devices())\n",
    "\n"
   ]
  },
  {
   "cell_type": "code",
   "execution_count": 196,
   "metadata": {},
   "outputs": [],
   "source": [
    "from autoencoders_keras.convolutional2D_autoencoder import Convolutional2DAutoencoder"
   ]
  },
  {
   "cell_type": "code",
   "execution_count": 197,
   "metadata": {},
   "outputs": [],
   "source": [
    "N0 = 32\n",
    "N1 = 20"
   ]
  },
  {
   "cell_type": "code",
   "execution_count": 126,
   "metadata": {},
   "outputs": [],
   "source": [
    "convolutional2D_autoencoder = Convolutional2DAutoencoder(input_shape=(N0, N1, 1),\n",
    "                                                         n_epoch=5,\n",
    "                                                         batch_size=100,\n",
    "                                                         encoder_layers=3,\n",
    "                                                         decoder_layers=3,\n",
    "                                                         filters=100,\n",
    "                                                         kernel_size=(8, 8),\n",
    "                                                         strides=(1, 1),\n",
    "                                                         pool_size=(4, 4),\n",
    "                                                         denoising=None)"
   ]
  },
  {
   "cell_type": "code",
   "execution_count": 142,
   "metadata": {},
   "outputs": [],
   "source": [
    "def get_synth_data(N):\n",
    "    Y0 = np.random.uniform(size=(N0, N1))\n",
    "    idx0 = np.argsort(Y0.mean(axis=1))\n",
    "    idx1 = np.argsort(Y0.mean(axis=0))[::-1]\n",
    "    Y0 = Y0[idx0][:, idx1]\n",
    "\n",
    "    Y1 = np.random.uniform(size=(N0, N1))\n",
    "    idx0 = np.argsort(Y1.mean(axis=1))\n",
    "    idx1 = np.argsort(Y1.mean(axis=0))\n",
    "    Y1 = Y1[idx0][:, idx1]\n",
    "\n",
    "    X0 = (np.random.uniform(size=(N, N0, N1))@Y0.T)@Y0\n",
    "    X1 = (np.random.uniform(size=(N, N0, N1))@Y1.T)@Y1\n",
    "\n",
    "    X = np.concatenate([X0, X1]).reshape((2*N, N0, N1, 1))\n",
    "    M = X.max()\n",
    "    m = X.min()\n",
    "\n",
    "    X = (X - m) / (M - m)\n",
    "    np.random.shuffle(X)\n",
    "    return X"
   ]
  },
  {
   "cell_type": "code",
   "execution_count": 143,
   "metadata": {},
   "outputs": [],
   "source": [
    "X = get_synth_data(10000)"
   ]
  },
  {
   "cell_type": "code",
   "execution_count": null,
   "metadata": {},
   "outputs": [],
   "source": []
  },
  {
   "cell_type": "code",
   "execution_count": 144,
   "metadata": {},
   "outputs": [
    {
     "name": "stdout",
     "output_type": "stream",
     "text": [
      "Train on 14000 samples, validate on 6000 samples\n",
      "Epoch 1/5\n",
      "14000/14000 [==============================] - 89s 6ms/step - loss: 0.1924 - val_loss: 0.2523\n",
      "Epoch 2/5\n",
      "14000/14000 [==============================] - 89s 6ms/step - loss: 0.0792 - val_loss: 0.1241\n",
      "Epoch 3/5\n",
      "14000/14000 [==============================] - 89s 6ms/step - loss: 0.0464 - val_loss: 0.0765\n",
      "Epoch 4/5\n",
      "14000/14000 [==============================] - 89s 6ms/step - loss: 0.0332 - val_loss: 0.0515\n",
      "Epoch 5/5\n",
      "14000/14000 [==============================] - 89s 6ms/step - loss: 0.0259 - val_loss: 0.0224\n"
     ]
    },
    {
     "data": {
      "text/plain": [
       "Convolutional2DAutoencoder(batch_size=100, decoder_layers=3, denoising=None,\n",
       "              encoder_layers=3, filters=100, input_shape=(32, 20, 1),\n",
       "              kernel_size=(8, 8), n_epoch=5, pool_size=(4, 4),\n",
       "              strides=(1, 1))"
      ]
     },
     "execution_count": 144,
     "metadata": {},
     "output_type": "execute_result"
    }
   ],
   "source": [
    "convolutional2D_autoencoder.fit(X)"
   ]
  },
  {
   "cell_type": "code",
   "execution_count": 188,
   "metadata": {},
   "outputs": [],
   "source": [
    "XX = get_synth_data(300)\n",
    "X_t = convolutional2D_autoencoder.transform(XX)"
   ]
  },
  {
   "cell_type": "code",
   "execution_count": 189,
   "metadata": {},
   "outputs": [],
   "source": [
    "from sklearn.decomposition import FastICA"
   ]
  },
  {
   "cell_type": "code",
   "execution_count": 190,
   "metadata": {},
   "outputs": [],
   "source": [
    "x, y = PCA(n_components=2).fit_transform(X_t).T"
   ]
  },
  {
   "cell_type": "code",
   "execution_count": 191,
   "metadata": {},
   "outputs": [
    {
     "data": {
      "text/plain": [
       "<matplotlib.collections.PathCollection at 0x7f37ffcd46a0>"
      ]
     },
     "execution_count": 191,
     "metadata": {},
     "output_type": "execute_result"
    },
    {
     "data": {
      "image/png": "[encoded data removed]",
      "text/plain": [
       "<Figure size 432x288 with 1 Axes>"
      ]
     },
     "metadata": {
      "needs_background": "light"
     },
     "output_type": "display_data"
    }
   ],
   "source": [
    "plt.scatter(x, y)"
   ]
  },
  {
   "cell_type": "code",
   "execution_count": null,
   "metadata": {},
   "outputs": [],
   "source": []
  },
  {
   "cell_type": "code",
   "execution_count": null,
   "metadata": {},
   "outputs": [],
   "source": []
  }
 ],
 "metadata": {
  "kernelspec": {
   "display_name": "tf-gpu",
   "language": "python",
   "name": "tf-gpu"
  },
  "language_info": {
   "codemirror_mode": {
    "name": "ipython",
    "version": 3
   },
   "file_extension": ".py",
   "mimetype": "text/x-python",
   "name": "python",
   "nbconvert_exporter": "python",
   "pygments_lexer": "ipython3",
   "version": "3.6.6"
  }
 },
 "nbformat": 4,
 "nbformat_minor": 2
}
